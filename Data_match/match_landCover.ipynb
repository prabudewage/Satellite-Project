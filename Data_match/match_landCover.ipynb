{
 "cells": [
  {
   "cell_type": "code",
   "execution_count": 52,
   "id": "487e4189",
   "metadata": {},
   "outputs": [],
   "source": [
    "import xarray as xr\n",
    "import matplotlib.pyplot as plt\n",
    "#from mpl_toolkits.axes_grid1 import make_axes_locatable\n",
    "import numpy as np\n",
    "from pyproj import Proj\n",
    "import pandas as pd"
   ]
  },
  {
   "cell_type": "code",
   "execution_count": 43,
   "id": "5fa810ac",
   "metadata": {},
   "outputs": [
    {
     "name": "stderr",
     "output_type": "stream",
     "text": [
      "/var/folders/cv/xw5msptd5434sn1sb59ck91r0000gn/T/ipykernel_23024/3918641058.py:2: DeprecationWarning: open_rasterio is Deprecated in favor of rioxarray. For information about transitioning, see: https://corteva.github.io/rioxarray/stable/getting_started/getting_started.html\n",
      "  da = xr.open_rasterio(\"nlcd_2019_land_cover_l48_20210604/nlcd_2019_land_cover_l48_20210604.img\")\n"
     ]
    }
   ],
   "source": [
    "# Open Land Cover img file  \n",
    "da = xr.open_rasterio(\"nlcd_2019_land_cover_l48_20210604/nlcd_2019_land_cover_l48_20210604.img\")\n",
    "\n",
    "# Open US coordinate dataFrame\n",
    "coord_df = pd.read_csv(\"/Users/prabu/Desktop/Research/Satellite_Proj/Data/coordinates/coordinatesUS.csv\")"
   ]
  },
  {
   "cell_type": "code",
   "execution_count": 44,
   "id": "41c15f31",
   "metadata": {},
   "outputs": [],
   "source": [
    "pro = Proj('+proj=aea +lat_0=23 +lon_0=-96 +lat_1=29.5 +lat_2=45.5 +x_0=0 +y_0=0 +datum=WGS84 +units=m +no_defs=True')"
   ]
  },
  {
   "cell_type": "code",
   "execution_count": 47,
   "id": "aa1daa88",
   "metadata": {},
   "outputs": [],
   "source": [
    "rows = []\n",
    "\n",
    "for index, row in coord_df.iterrows():\n",
    "    latitude = coord_df.Latitude[index]\n",
    "    longitude = coord_df.Longitude[index]\n",
    "    lon,lat = pro(longitude,latitude)\n",
    "    value_location = da.sel(y = lat,x = lon, method='nearest',tolerance=990)\n",
    "    value = value_location.values[0]\n",
    "    rows.append([latitude, longitude, value])"
   ]
  },
  {
   "cell_type": "code",
   "execution_count": 50,
   "id": "57fa757a",
   "metadata": {},
   "outputs": [],
   "source": [
    "df = pd.DataFrame(rows, columns=[\"latitude\", \"longitude\", \"landCover\"])\n",
    "\n",
    "df.to_csv('/Users/prabu/Desktop/Research/Satellite_Proj/Data/dataFrame/land_cover_df.csv')"
   ]
  },
  {
   "cell_type": "markdown",
   "id": "116464e8",
   "metadata": {},
   "source": [
    "# Population "
   ]
  },
  {
   "cell_type": "code",
   "execution_count": 55,
   "id": "2cbbe30c",
   "metadata": {},
   "outputs": [
    {
     "name": "stderr",
     "output_type": "stream",
     "text": [
      "/var/folders/cv/xw5msptd5434sn1sb59ck91r0000gn/T/ipykernel_23024/4034905611.py:1: DeprecationWarning: open_rasterio is Deprecated in favor of rioxarray. For information about transitioning, see: https://corteva.github.io/rioxarray/stable/getting_started/getting_started.html\n",
      "  pop_da = xr.open_rasterio(\"/Users/prabu/Desktop/Satellite_Project/Data/Data/gpw-v4-population-density-rev11_2020_30_sec_tif/gpw_v4_population_density_rev11_2020_30_sec.tif\")\n"
     ]
    }
   ],
   "source": [
    "pop_da = xr.open_rasterio(\"/Users/prabu/Desktop/Satellite_Project/Data/Data/gpw-v4-population-density-rev11_2020_30_sec_tif/gpw_v4_population_density_rev11_2020_30_sec.tif\")\n",
    "coord_df = pd.read_csv(\"/Users/prabu/Desktop/Research/Satellite_Proj/Data/coordinates/coordinatesUS.csv\")"
   ]
  },
  {
   "cell_type": "code",
   "execution_count": 70,
   "id": "b574ba27",
   "metadata": {},
   "outputs": [
    {
     "name": "stdout",
     "output_type": "stream",
     "text": [
      "[4217.457]\n"
     ]
    }
   ],
   "source": [
    "rows = []\n",
    "\n",
    "for index, row in coord_df.iterrows():\n",
    "    latitude = coord_df.Latitude[index]\n",
    "    longitude = coord_df.Longitude[index]\n",
    "    value_location = pop_da.sel(y = latitude,x = longitude, method='nearest',tolerance=0.01)\n",
    "    value = value_location.values[0]\n",
    "    rows.append([latitude, longitude, value])\n",
    "\n",
    "lat = 29.767997\n",
    "lon = -95.220582\n",
    "\n",
    "value_location = pop_da.sel(y = lat,x = lon, method='nearest',tolerance=0.01)\n",
    "value = value_location.values[0]\n",
    "print(value_location.values)"
   ]
  },
  {
   "cell_type": "code",
   "execution_count": 63,
   "id": "c552e1bf",
   "metadata": {},
   "outputs": [
    {
     "name": "stdout",
     "output_type": "stream",
     "text": [
      "[[-3.402823e+38 -3.402823e+38 -3.402823e+38 ... -3.402823e+38\n",
      "  -3.402823e+38 -3.402823e+38]\n",
      " [-3.402823e+38 -3.402823e+38 -3.402823e+38 ... -3.402823e+38\n",
      "  -3.402823e+38 -3.402823e+38]\n",
      " [-3.402823e+38 -3.402823e+38 -3.402823e+38 ... -3.402823e+38\n",
      "  -3.402823e+38 -3.402823e+38]\n",
      " ...\n",
      " [-3.402823e+38 -3.402823e+38 -3.402823e+38 ... -3.402823e+38\n",
      "  -3.402823e+38 -3.402823e+38]\n",
      " [-3.402823e+38 -3.402823e+38 -3.402823e+38 ... -3.402823e+38\n",
      "  -3.402823e+38 -3.402823e+38]\n",
      " [-3.402823e+38 -3.402823e+38 -3.402823e+38 ... -3.402823e+38\n",
      "  -3.402823e+38 -3.402823e+38]]\n"
     ]
    }
   ],
   "source": [
    "print(pop_da.values[0])"
   ]
  },
  {
   "cell_type": "code",
   "execution_count": 62,
   "id": "1d6c2560",
   "metadata": {},
   "outputs": [
    {
     "name": "stdout",
     "output_type": "stream",
     "text": [
      "<xarray.Variable (band: 1, y: 21600, x: 43200)>\n",
      "[933120000 values with dtype=float32]\n",
      "Attributes:\n",
      "    transform:      (0.00833333333333333, 0.0, -180.0, 0.0, -0.00833333333333...\n",
      "    crs:            +init=epsg:4326\n",
      "    res:            (0.00833333333333333, 0.00833333333333333)\n",
      "    is_tiled:       0\n",
      "    nodatavals:     (-3.4028230607370965e+38,)\n",
      "    scales:         (1.0,)\n",
      "    offsets:        (0.0,)\n",
      "    AREA_OR_POINT:  Area\n",
      "    DataType:       Generic\n"
     ]
    }
   ],
   "source": [
    "print(pop_da.variable)"
   ]
  },
  {
   "cell_type": "code",
   "execution_count": null,
   "id": "68b30822",
   "metadata": {},
   "outputs": [],
   "source": []
  }
 ],
 "metadata": {
  "kernelspec": {
   "display_name": "Python 3 (ipykernel)",
   "language": "python",
   "name": "python3"
  },
  "language_info": {
   "codemirror_mode": {
    "name": "ipython",
    "version": 3
   },
   "file_extension": ".py",
   "mimetype": "text/x-python",
   "name": "python",
   "nbconvert_exporter": "python",
   "pygments_lexer": "ipython3",
   "version": "3.9.10"
  }
 },
 "nbformat": 4,
 "nbformat_minor": 5
}
